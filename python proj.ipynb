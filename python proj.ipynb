{
 "cells": [
  {
   "cell_type": "markdown",
   "metadata": {},
   "source": [
    "The function to create the database"
   ]
  },
  {
   "cell_type": "code",
   "execution_count": 1,
   "metadata": {},
   "outputs": [],
   "source": [
    "import sqlite3\n",
    "\n",
    "conn = sqlite3.connect('projdb.sqlite')\n",
    "\n",
    "c = conn.cursor()\n",
    "\n",
    "c.execute('''CREATE TABLE IF NOT EXISTS cars_prices\n",
    "             (id INTEGER, model TEXT, price REAL)''')\n",
    "\n",
    "# Corrected table creation statements\n",
    "c.execute('''CREATE TABLE IF NOT EXISTS availability\n",
    "             (id INTEGER, avail INTEGER)''')\n",
    "\n",
    "c.execute('''CREATE TABLE IF NOT EXISTS rented_cars\n",
    "             (id INTEGER, client_id INTEGER, return_date DATE, borrowed_date DATE, money_due DOUBLE)''')\n",
    "\n",
    "c.execute('''CREATE TABLE IF NOT EXISTS clients\n",
    "             (client_id INTEGER, client_name TEXT, client_password TEXT)''')\n",
    "\n",
    "conn.commit()\n",
    "conn.close()\n"
   ]
  },
  {
   "cell_type": "markdown",
   "metadata": {},
   "source": [
    "Registering the client is done below:"
   ]
  },
  {
   "cell_type": "code",
   "execution_count": 6,
   "metadata": {},
   "outputs": [
    {
     "name": "stdout",
     "output_type": "stream",
     "text": [
      "[]\n",
      "0\n",
      "   client_id   client_name client_password\n",
      "0          1  Agent Cooper        qwert678\n"
     ]
    }
   ],
   "source": [
    "import sqlite3\n",
    "import pandas as pd\n",
    "\n",
    "def check_clients_id(id):\n",
    "    conn = sqlite3.connect('projdb.sqlite')\n",
    "    query = \"SELECT client_id FROM clients WHERE client_id = ?\"\n",
    "    c = conn.cursor()\n",
    "    c.execute(query, (id,))\n",
    "    ids = c.fetchall()\n",
    "    conn.close()\n",
    "    print(ids)\n",
    "    if ids:\n",
    "        return int(1)\n",
    "    else:\n",
    "        return int(0)\n",
    "\n",
    "\n",
    "def register_client(client):\n",
    "    conn = sqlite3.connect('projdb.sqlite')\n",
    "    c = conn.cursor()\n",
    "    write = '''INSERT OR IGNORE INTO clients(client_id, client_name, client_password) VALUES (?,?,?)'''\n",
    "    ver = check_clients_id(client[0])\n",
    "    print(ver)\n",
    "    if int(ver) == int(1):\n",
    "        print('This client already exists')\n",
    "    else:\n",
    "        c.execute(write, client)\n",
    "        conn.commit()\n",
    "        print(pd.read_sql_query('''SELECT * FROM clients''', conn))\n",
    "        conn.close()\n",
    "    conn.close()\n",
    "    \n",
    "#feel free to create your own account!\n",
    "client1 = [1, 'Agent Cooper', 'qwert678']\n",
    "\n",
    "register_client(client1)\n",
    "\n"
   ]
  },
  {
   "cell_type": "markdown",
   "metadata": {},
   "source": []
  }
 ],
 "metadata": {
  "kernelspec": {
   "display_name": "Python 3",
   "language": "python",
   "name": "python3"
  },
  "language_info": {
   "codemirror_mode": {
    "name": "ipython",
    "version": 3
   },
   "file_extension": ".py",
   "mimetype": "text/x-python",
   "name": "python",
   "nbconvert_exporter": "python",
   "pygments_lexer": "ipython3",
   "version": "3.8.2"
  }
 },
 "nbformat": 4,
 "nbformat_minor": 2
}
